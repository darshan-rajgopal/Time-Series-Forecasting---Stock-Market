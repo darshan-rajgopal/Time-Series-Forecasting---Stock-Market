{
 "cells": [
  {
   "cell_type": "code",
   "execution_count": 1,
   "id": "c2ef9b47",
   "metadata": {
    "id": "c2ef9b47"
   },
   "outputs": [],
   "source": [
    "import numpy as np\n",
    "import pandas as pd\n",
    "from tensorflow.keras.models import Sequential\n",
    "from tensorflow.keras.layers import LSTM, SimpleRNN\n",
    "from tensorflow.keras.layers import Dense\n",
    "from tensorflow.keras.layers import Flatten\n",
    "import matplotlib.pyplot as plt\n",
    "import warnings\n",
    "warnings.filterwarnings('ignore')\n",
    "%matplotlib inline\n",
    "from sklearn.metrics import mean_absolute_error as mae\n",
    "from pandas.tseries.offsets import BDay"
   ]
  },
  {
   "cell_type": "code",
   "execution_count": 2,
   "id": "iGQk9lcRmucZ",
   "metadata": {
    "colab": {
     "base_uri": "https://localhost:8080/"
    },
    "id": "iGQk9lcRmucZ",
    "outputId": "0bbc6d47-0c8f-4523-b1c3-9414d2e9b0c7"
   },
   "outputs": [
    {
     "name": "stdout",
     "output_type": "stream",
     "text": [
      "Mounted at /content/drive\n"
     ]
    }
   ],
   "source": [
    "from google.colab import drive\n",
    "drive.mount('/content/drive')"
   ]
  },
  {
   "cell_type": "code",
   "execution_count": null,
   "id": "BxDZtfokj6Da",
   "metadata": {
    "colab": {
     "base_uri": "https://localhost:8080/",
     "height": 35
    },
    "id": "BxDZtfokj6Da",
    "outputId": "b20dcdbd-c02a-48ad-a576-4ba9370acae1"
   },
   "outputs": [
    {
     "data": {
      "application/vnd.google.colaboratory.intrinsic+json": {
       "type": "string"
      },
      "text/plain": [
       "'/device:GPU:0'"
      ]
     },
     "execution_count": 5,
     "metadata": {},
     "output_type": "execute_result"
    }
   ],
   "source": [
    "import tensorflow as tf\n",
    "tf.test.gpu_device_name()"
   ]
  },
  {
   "cell_type": "code",
   "execution_count": null,
   "id": "UDt4KrAxj6JS",
   "metadata": {
    "colab": {
     "base_uri": "https://localhost:8080/"
    },
    "id": "UDt4KrAxj6JS",
    "outputId": "9d528187-3aea-4259-a635-0d1eddbc47d0"
   },
   "outputs": [
    {
     "data": {
      "text/plain": [
       "[name: \"/device:CPU:0\"\n",
       " device_type: \"CPU\"\n",
       " memory_limit: 268435456\n",
       " locality {\n",
       " }\n",
       " incarnation: 14494480343520806349\n",
       " xla_global_id: -1, name: \"/device:GPU:0\"\n",
       " device_type: \"GPU\"\n",
       " memory_limit: 11320098816\n",
       " locality {\n",
       "   bus_id: 1\n",
       "   links {\n",
       "   }\n",
       " }\n",
       " incarnation: 1229225032833911937\n",
       " physical_device_desc: \"device: 0, name: Tesla K80, pci bus id: 0000:00:04.0, compute capability: 3.7\"\n",
       " xla_global_id: 416903419]"
      ]
     },
     "execution_count": 6,
     "metadata": {},
     "output_type": "execute_result"
    }
   ],
   "source": [
    "from tensorflow.python.client import device_lib\n",
    "device_lib.list_local_devices()"
   ]
  },
  {
   "cell_type": "code",
   "execution_count": 3,
   "id": "30d066a0",
   "metadata": {
    "colab": {
     "base_uri": "https://localhost:8080/",
     "height": 206
    },
    "id": "30d066a0",
    "outputId": "44d6e04d-7d1d-4e9d-ad93-d93b1ad512d9"
   },
   "outputs": [
    {
     "data": {
      "text/html": [
       "\n",
       "  <div id=\"df-fc29eb4d-4a46-492b-ba6d-92723c8a0214\">\n",
       "    <div class=\"colab-df-container\">\n",
       "      <div>\n",
       "<style scoped>\n",
       "    .dataframe tbody tr th:only-of-type {\n",
       "        vertical-align: middle;\n",
       "    }\n",
       "\n",
       "    .dataframe tbody tr th {\n",
       "        vertical-align: top;\n",
       "    }\n",
       "\n",
       "    .dataframe thead th {\n",
       "        text-align: right;\n",
       "    }\n",
       "</style>\n",
       "<table border=\"1\" class=\"dataframe\">\n",
       "  <thead>\n",
       "    <tr style=\"text-align: right;\">\n",
       "      <th></th>\n",
       "      <th>Date</th>\n",
       "      <th>Symbol</th>\n",
       "      <th>Series</th>\n",
       "      <th>Prev Close</th>\n",
       "      <th>Open</th>\n",
       "      <th>High</th>\n",
       "      <th>Low</th>\n",
       "      <th>Last</th>\n",
       "      <th>Close</th>\n",
       "      <th>VWAP</th>\n",
       "      <th>Volume</th>\n",
       "      <th>Turnover</th>\n",
       "      <th>Trades</th>\n",
       "      <th>Deliverable Volume</th>\n",
       "      <th>%Deliverble</th>\n",
       "    </tr>\n",
       "  </thead>\n",
       "  <tbody>\n",
       "    <tr>\n",
       "      <th>0</th>\n",
       "      <td>2000-01-03</td>\n",
       "      <td>RELIANCE</td>\n",
       "      <td>EQ</td>\n",
       "      <td>233.05</td>\n",
       "      <td>237.50</td>\n",
       "      <td>251.70</td>\n",
       "      <td>237.50</td>\n",
       "      <td>251.70</td>\n",
       "      <td>251.70</td>\n",
       "      <td>249.37</td>\n",
       "      <td>4456424</td>\n",
       "      <td>1.111319e+14</td>\n",
       "      <td>NaN</td>\n",
       "      <td>NaN</td>\n",
       "      <td>NaN</td>\n",
       "    </tr>\n",
       "    <tr>\n",
       "      <th>1</th>\n",
       "      <td>2000-01-04</td>\n",
       "      <td>RELIANCE</td>\n",
       "      <td>EQ</td>\n",
       "      <td>251.70</td>\n",
       "      <td>258.40</td>\n",
       "      <td>271.85</td>\n",
       "      <td>251.30</td>\n",
       "      <td>271.85</td>\n",
       "      <td>271.85</td>\n",
       "      <td>263.52</td>\n",
       "      <td>9487878</td>\n",
       "      <td>2.500222e+14</td>\n",
       "      <td>NaN</td>\n",
       "      <td>NaN</td>\n",
       "      <td>NaN</td>\n",
       "    </tr>\n",
       "    <tr>\n",
       "      <th>2</th>\n",
       "      <td>2000-01-05</td>\n",
       "      <td>RELIANCE</td>\n",
       "      <td>EQ</td>\n",
       "      <td>271.85</td>\n",
       "      <td>256.65</td>\n",
       "      <td>287.90</td>\n",
       "      <td>256.65</td>\n",
       "      <td>286.75</td>\n",
       "      <td>282.50</td>\n",
       "      <td>274.79</td>\n",
       "      <td>26833684</td>\n",
       "      <td>7.373697e+14</td>\n",
       "      <td>NaN</td>\n",
       "      <td>NaN</td>\n",
       "      <td>NaN</td>\n",
       "    </tr>\n",
       "    <tr>\n",
       "      <th>3</th>\n",
       "      <td>2000-01-06</td>\n",
       "      <td>RELIANCE</td>\n",
       "      <td>EQ</td>\n",
       "      <td>282.50</td>\n",
       "      <td>289.00</td>\n",
       "      <td>300.70</td>\n",
       "      <td>289.00</td>\n",
       "      <td>293.50</td>\n",
       "      <td>294.35</td>\n",
       "      <td>295.45</td>\n",
       "      <td>15682286</td>\n",
       "      <td>4.633254e+14</td>\n",
       "      <td>NaN</td>\n",
       "      <td>NaN</td>\n",
       "      <td>NaN</td>\n",
       "    </tr>\n",
       "    <tr>\n",
       "      <th>4</th>\n",
       "      <td>2000-01-07</td>\n",
       "      <td>RELIANCE</td>\n",
       "      <td>EQ</td>\n",
       "      <td>294.35</td>\n",
       "      <td>295.00</td>\n",
       "      <td>317.90</td>\n",
       "      <td>293.00</td>\n",
       "      <td>314.50</td>\n",
       "      <td>314.55</td>\n",
       "      <td>308.91</td>\n",
       "      <td>19870977</td>\n",
       "      <td>6.138388e+14</td>\n",
       "      <td>NaN</td>\n",
       "      <td>NaN</td>\n",
       "      <td>NaN</td>\n",
       "    </tr>\n",
       "  </tbody>\n",
       "</table>\n",
       "</div>\n",
       "      <button class=\"colab-df-convert\" onclick=\"convertToInteractive('df-fc29eb4d-4a46-492b-ba6d-92723c8a0214')\"\n",
       "              title=\"Convert this dataframe to an interactive table.\"\n",
       "              style=\"display:none;\">\n",
       "        \n",
       "  <svg xmlns=\"http://www.w3.org/2000/svg\" height=\"24px\"viewBox=\"0 0 24 24\"\n",
       "       width=\"24px\">\n",
       "    <path d=\"M0 0h24v24H0V0z\" fill=\"none\"/>\n",
       "    <path d=\"M18.56 5.44l.94 2.06.94-2.06 2.06-.94-2.06-.94-.94-2.06-.94 2.06-2.06.94zm-11 1L8.5 8.5l.94-2.06 2.06-.94-2.06-.94L8.5 2.5l-.94 2.06-2.06.94zm10 10l.94 2.06.94-2.06 2.06-.94-2.06-.94-.94-2.06-.94 2.06-2.06.94z\"/><path d=\"M17.41 7.96l-1.37-1.37c-.4-.4-.92-.59-1.43-.59-.52 0-1.04.2-1.43.59L10.3 9.45l-7.72 7.72c-.78.78-.78 2.05 0 2.83L4 21.41c.39.39.9.59 1.41.59.51 0 1.02-.2 1.41-.59l7.78-7.78 2.81-2.81c.8-.78.8-2.07 0-2.86zM5.41 20L4 18.59l7.72-7.72 1.47 1.35L5.41 20z\"/>\n",
       "  </svg>\n",
       "      </button>\n",
       "      \n",
       "  <style>\n",
       "    .colab-df-container {\n",
       "      display:flex;\n",
       "      flex-wrap:wrap;\n",
       "      gap: 12px;\n",
       "    }\n",
       "\n",
       "    .colab-df-convert {\n",
       "      background-color: #E8F0FE;\n",
       "      border: none;\n",
       "      border-radius: 50%;\n",
       "      cursor: pointer;\n",
       "      display: none;\n",
       "      fill: #1967D2;\n",
       "      height: 32px;\n",
       "      padding: 0 0 0 0;\n",
       "      width: 32px;\n",
       "    }\n",
       "\n",
       "    .colab-df-convert:hover {\n",
       "      background-color: #E2EBFA;\n",
       "      box-shadow: 0px 1px 2px rgba(60, 64, 67, 0.3), 0px 1px 3px 1px rgba(60, 64, 67, 0.15);\n",
       "      fill: #174EA6;\n",
       "    }\n",
       "\n",
       "    [theme=dark] .colab-df-convert {\n",
       "      background-color: #3B4455;\n",
       "      fill: #D2E3FC;\n",
       "    }\n",
       "\n",
       "    [theme=dark] .colab-df-convert:hover {\n",
       "      background-color: #434B5C;\n",
       "      box-shadow: 0px 1px 3px 1px rgba(0, 0, 0, 0.15);\n",
       "      filter: drop-shadow(0px 1px 2px rgba(0, 0, 0, 0.3));\n",
       "      fill: #FFFFFF;\n",
       "    }\n",
       "  </style>\n",
       "\n",
       "      <script>\n",
       "        const buttonEl =\n",
       "          document.querySelector('#df-fc29eb4d-4a46-492b-ba6d-92723c8a0214 button.colab-df-convert');\n",
       "        buttonEl.style.display =\n",
       "          google.colab.kernel.accessAllowed ? 'block' : 'none';\n",
       "\n",
       "        async function convertToInteractive(key) {\n",
       "          const element = document.querySelector('#df-fc29eb4d-4a46-492b-ba6d-92723c8a0214');\n",
       "          const dataTable =\n",
       "            await google.colab.kernel.invokeFunction('convertToInteractive',\n",
       "                                                     [key], {});\n",
       "          if (!dataTable) return;\n",
       "\n",
       "          const docLinkHtml = 'Like what you see? Visit the ' +\n",
       "            '<a target=\"_blank\" href=https://colab.research.google.com/notebooks/data_table.ipynb>data table notebook</a>'\n",
       "            + ' to learn more about interactive tables.';\n",
       "          element.innerHTML = '';\n",
       "          dataTable['output_type'] = 'display_data';\n",
       "          await google.colab.output.renderOutput(dataTable, element);\n",
       "          const docLink = document.createElement('div');\n",
       "          docLink.innerHTML = docLinkHtml;\n",
       "          element.appendChild(docLink);\n",
       "        }\n",
       "      </script>\n",
       "    </div>\n",
       "  </div>\n",
       "  "
      ],
      "text/plain": [
       "         Date    Symbol Series  Prev Close    Open    High     Low    Last  \\\n",
       "0  2000-01-03  RELIANCE     EQ      233.05  237.50  251.70  237.50  251.70   \n",
       "1  2000-01-04  RELIANCE     EQ      251.70  258.40  271.85  251.30  271.85   \n",
       "2  2000-01-05  RELIANCE     EQ      271.85  256.65  287.90  256.65  286.75   \n",
       "3  2000-01-06  RELIANCE     EQ      282.50  289.00  300.70  289.00  293.50   \n",
       "4  2000-01-07  RELIANCE     EQ      294.35  295.00  317.90  293.00  314.50   \n",
       "\n",
       "    Close    VWAP    Volume      Turnover  Trades  Deliverable Volume  \\\n",
       "0  251.70  249.37   4456424  1.111319e+14     NaN                 NaN   \n",
       "1  271.85  263.52   9487878  2.500222e+14     NaN                 NaN   \n",
       "2  282.50  274.79  26833684  7.373697e+14     NaN                 NaN   \n",
       "3  294.35  295.45  15682286  4.633254e+14     NaN                 NaN   \n",
       "4  314.55  308.91  19870977  6.138388e+14     NaN                 NaN   \n",
       "\n",
       "   %Deliverble  \n",
       "0          NaN  \n",
       "1          NaN  \n",
       "2          NaN  \n",
       "3          NaN  \n",
       "4          NaN  "
      ]
     },
     "execution_count": 3,
     "metadata": {},
     "output_type": "execute_result"
    }
   ],
   "source": [
    "df_main = pd.read_csv('/content/drive/MyDrive/Colab Notebooks/Stock Market/RELIANCE.csv')\n",
    "df_main.head()"
   ]
  },
  {
   "cell_type": "code",
   "execution_count": 4,
   "id": "kllTTCdSd1My",
   "metadata": {
    "id": "kllTTCdSd1My"
   },
   "outputs": [],
   "source": [
    "df_main.drop(['Trades','Deliverable Volume','%Deliverble'],axis=1,inplace=True)"
   ]
  },
  {
   "cell_type": "code",
   "execution_count": 5,
   "id": "0482272d",
   "metadata": {
    "colab": {
     "base_uri": "https://localhost:8080/"
    },
    "id": "0482272d",
    "outputId": "a6e46c06-2de8-4fa4-b67d-9eca866985c1"
   },
   "outputs": [
    {
     "data": {
      "text/plain": [
       "(5306, 12)"
      ]
     },
     "execution_count": 5,
     "metadata": {},
     "output_type": "execute_result"
    }
   ],
   "source": [
    "df_main.shape"
   ]
  },
  {
   "cell_type": "code",
   "execution_count": 6,
   "id": "1pQvi2Wjd0b0",
   "metadata": {
    "id": "1pQvi2Wjd0b0"
   },
   "outputs": [],
   "source": [
    "time = pd.date_range(start='2000-01-03',periods=5306,freq=BDay())\n",
    "df_main['time_stamp'] = pd.DataFrame(time)\n",
    "df_main.drop(['Date'],axis=1,inplace=True)\n",
    "df_main = df_main.set_index('time_stamp')"
   ]
  },
  {
   "cell_type": "code",
   "execution_count": null,
   "id": "076f1ad3",
   "metadata": {
    "colab": {
     "base_uri": "https://localhost:8080/"
    },
    "id": "076f1ad3",
    "outputId": "8d0f9a5c-0a3a-4af1-b55e-944fe56ac618"
   },
   "outputs": [
    {
     "name": "stdout",
     "output_type": "stream",
     "text": [
      "<class 'pandas.core.frame.DataFrame'>\n",
      "DatetimeIndex: 5306 entries, 2000-01-03 to 2020-05-04\n",
      "Data columns (total 11 columns):\n",
      " #   Column      Non-Null Count  Dtype  \n",
      "---  ------      --------------  -----  \n",
      " 0   Symbol      5306 non-null   object \n",
      " 1   Series      5306 non-null   object \n",
      " 2   Prev Close  5306 non-null   float64\n",
      " 3   Open        5306 non-null   float64\n",
      " 4   High        5306 non-null   float64\n",
      " 5   Low         5306 non-null   float64\n",
      " 6   Last        5306 non-null   float64\n",
      " 7   Close       5306 non-null   float64\n",
      " 8   VWAP        5306 non-null   float64\n",
      " 9   Volume      5306 non-null   int64  \n",
      " 10  Turnover    5306 non-null   float64\n",
      "dtypes: float64(8), int64(1), object(2)\n",
      "memory usage: 497.4+ KB\n"
     ]
    }
   ],
   "source": [
    "df_main.info()"
   ]
  },
  {
   "cell_type": "code",
   "execution_count": 7,
   "id": "1CZBnYRqChDE",
   "metadata": {
    "id": "1CZBnYRqChDE"
   },
   "outputs": [],
   "source": [
    "df = df_main[['Close']]"
   ]
  },
  {
   "cell_type": "code",
   "execution_count": 8,
   "id": "oYAsh_OytrPi",
   "metadata": {
    "colab": {
     "base_uri": "https://localhost:8080/",
     "height": 238
    },
    "id": "oYAsh_OytrPi",
    "outputId": "1e002e7b-8023-46d9-dcf8-b5f428fff23a"
   },
   "outputs": [
    {
     "data": {
      "text/html": [
       "\n",
       "  <div id=\"df-9f5bcd82-3afd-46a9-adee-cfa9aa1591ec\">\n",
       "    <div class=\"colab-df-container\">\n",
       "      <div>\n",
       "<style scoped>\n",
       "    .dataframe tbody tr th:only-of-type {\n",
       "        vertical-align: middle;\n",
       "    }\n",
       "\n",
       "    .dataframe tbody tr th {\n",
       "        vertical-align: top;\n",
       "    }\n",
       "\n",
       "    .dataframe thead th {\n",
       "        text-align: right;\n",
       "    }\n",
       "</style>\n",
       "<table border=\"1\" class=\"dataframe\">\n",
       "  <thead>\n",
       "    <tr style=\"text-align: right;\">\n",
       "      <th></th>\n",
       "      <th>Close</th>\n",
       "    </tr>\n",
       "    <tr>\n",
       "      <th>time_stamp</th>\n",
       "      <th></th>\n",
       "    </tr>\n",
       "  </thead>\n",
       "  <tbody>\n",
       "    <tr>\n",
       "      <th>2000-01-03</th>\n",
       "      <td>251.70</td>\n",
       "    </tr>\n",
       "    <tr>\n",
       "      <th>2000-01-04</th>\n",
       "      <td>271.85</td>\n",
       "    </tr>\n",
       "    <tr>\n",
       "      <th>2000-01-05</th>\n",
       "      <td>282.50</td>\n",
       "    </tr>\n",
       "    <tr>\n",
       "      <th>2000-01-06</th>\n",
       "      <td>294.35</td>\n",
       "    </tr>\n",
       "    <tr>\n",
       "      <th>2000-01-07</th>\n",
       "      <td>314.55</td>\n",
       "    </tr>\n",
       "  </tbody>\n",
       "</table>\n",
       "</div>\n",
       "      <button class=\"colab-df-convert\" onclick=\"convertToInteractive('df-9f5bcd82-3afd-46a9-adee-cfa9aa1591ec')\"\n",
       "              title=\"Convert this dataframe to an interactive table.\"\n",
       "              style=\"display:none;\">\n",
       "        \n",
       "  <svg xmlns=\"http://www.w3.org/2000/svg\" height=\"24px\"viewBox=\"0 0 24 24\"\n",
       "       width=\"24px\">\n",
       "    <path d=\"M0 0h24v24H0V0z\" fill=\"none\"/>\n",
       "    <path d=\"M18.56 5.44l.94 2.06.94-2.06 2.06-.94-2.06-.94-.94-2.06-.94 2.06-2.06.94zm-11 1L8.5 8.5l.94-2.06 2.06-.94-2.06-.94L8.5 2.5l-.94 2.06-2.06.94zm10 10l.94 2.06.94-2.06 2.06-.94-2.06-.94-.94-2.06-.94 2.06-2.06.94z\"/><path d=\"M17.41 7.96l-1.37-1.37c-.4-.4-.92-.59-1.43-.59-.52 0-1.04.2-1.43.59L10.3 9.45l-7.72 7.72c-.78.78-.78 2.05 0 2.83L4 21.41c.39.39.9.59 1.41.59.51 0 1.02-.2 1.41-.59l7.78-7.78 2.81-2.81c.8-.78.8-2.07 0-2.86zM5.41 20L4 18.59l7.72-7.72 1.47 1.35L5.41 20z\"/>\n",
       "  </svg>\n",
       "      </button>\n",
       "      \n",
       "  <style>\n",
       "    .colab-df-container {\n",
       "      display:flex;\n",
       "      flex-wrap:wrap;\n",
       "      gap: 12px;\n",
       "    }\n",
       "\n",
       "    .colab-df-convert {\n",
       "      background-color: #E8F0FE;\n",
       "      border: none;\n",
       "      border-radius: 50%;\n",
       "      cursor: pointer;\n",
       "      display: none;\n",
       "      fill: #1967D2;\n",
       "      height: 32px;\n",
       "      padding: 0 0 0 0;\n",
       "      width: 32px;\n",
       "    }\n",
       "\n",
       "    .colab-df-convert:hover {\n",
       "      background-color: #E2EBFA;\n",
       "      box-shadow: 0px 1px 2px rgba(60, 64, 67, 0.3), 0px 1px 3px 1px rgba(60, 64, 67, 0.15);\n",
       "      fill: #174EA6;\n",
       "    }\n",
       "\n",
       "    [theme=dark] .colab-df-convert {\n",
       "      background-color: #3B4455;\n",
       "      fill: #D2E3FC;\n",
       "    }\n",
       "\n",
       "    [theme=dark] .colab-df-convert:hover {\n",
       "      background-color: #434B5C;\n",
       "      box-shadow: 0px 1px 3px 1px rgba(0, 0, 0, 0.15);\n",
       "      filter: drop-shadow(0px 1px 2px rgba(0, 0, 0, 0.3));\n",
       "      fill: #FFFFFF;\n",
       "    }\n",
       "  </style>\n",
       "\n",
       "      <script>\n",
       "        const buttonEl =\n",
       "          document.querySelector('#df-9f5bcd82-3afd-46a9-adee-cfa9aa1591ec button.colab-df-convert');\n",
       "        buttonEl.style.display =\n",
       "          google.colab.kernel.accessAllowed ? 'block' : 'none';\n",
       "\n",
       "        async function convertToInteractive(key) {\n",
       "          const element = document.querySelector('#df-9f5bcd82-3afd-46a9-adee-cfa9aa1591ec');\n",
       "          const dataTable =\n",
       "            await google.colab.kernel.invokeFunction('convertToInteractive',\n",
       "                                                     [key], {});\n",
       "          if (!dataTable) return;\n",
       "\n",
       "          const docLinkHtml = 'Like what you see? Visit the ' +\n",
       "            '<a target=\"_blank\" href=https://colab.research.google.com/notebooks/data_table.ipynb>data table notebook</a>'\n",
       "            + ' to learn more about interactive tables.';\n",
       "          element.innerHTML = '';\n",
       "          dataTable['output_type'] = 'display_data';\n",
       "          await google.colab.output.renderOutput(dataTable, element);\n",
       "          const docLink = document.createElement('div');\n",
       "          docLink.innerHTML = docLinkHtml;\n",
       "          element.appendChild(docLink);\n",
       "        }\n",
       "      </script>\n",
       "    </div>\n",
       "  </div>\n",
       "  "
      ],
      "text/plain": [
       "             Close\n",
       "time_stamp        \n",
       "2000-01-03  251.70\n",
       "2000-01-04  271.85\n",
       "2000-01-05  282.50\n",
       "2000-01-06  294.35\n",
       "2000-01-07  314.55"
      ]
     },
     "execution_count": 8,
     "metadata": {},
     "output_type": "execute_result"
    }
   ],
   "source": [
    "df.head()"
   ]
  },
  {
   "cell_type": "code",
   "execution_count": 9,
   "id": "PVfreeEkE1aG",
   "metadata": {
    "colab": {
     "base_uri": "https://localhost:8080/",
     "height": 238
    },
    "id": "PVfreeEkE1aG",
    "outputId": "6a1bf430-554b-4116-b113-6ec54e743a39"
   },
   "outputs": [
    {
     "data": {
      "text/html": [
       "\n",
       "  <div id=\"df-a47edefc-5561-4692-aed3-6a7885a5d6ee\">\n",
       "    <div class=\"colab-df-container\">\n",
       "      <div>\n",
       "<style scoped>\n",
       "    .dataframe tbody tr th:only-of-type {\n",
       "        vertical-align: middle;\n",
       "    }\n",
       "\n",
       "    .dataframe tbody tr th {\n",
       "        vertical-align: top;\n",
       "    }\n",
       "\n",
       "    .dataframe thead th {\n",
       "        text-align: right;\n",
       "    }\n",
       "</style>\n",
       "<table border=\"1\" class=\"dataframe\">\n",
       "  <thead>\n",
       "    <tr style=\"text-align: right;\">\n",
       "      <th></th>\n",
       "      <th>Close</th>\n",
       "    </tr>\n",
       "    <tr>\n",
       "      <th>time_stamp</th>\n",
       "      <th></th>\n",
       "    </tr>\n",
       "  </thead>\n",
       "  <tbody>\n",
       "    <tr>\n",
       "      <th>2020-04-28</th>\n",
       "      <td>1937.85</td>\n",
       "    </tr>\n",
       "    <tr>\n",
       "      <th>2020-04-29</th>\n",
       "      <td>1988.65</td>\n",
       "    </tr>\n",
       "    <tr>\n",
       "      <th>2020-04-30</th>\n",
       "      <td>1997.30</td>\n",
       "    </tr>\n",
       "    <tr>\n",
       "      <th>2020-05-01</th>\n",
       "      <td>2024.05</td>\n",
       "    </tr>\n",
       "    <tr>\n",
       "      <th>2020-05-04</th>\n",
       "      <td>1994.50</td>\n",
       "    </tr>\n",
       "  </tbody>\n",
       "</table>\n",
       "</div>\n",
       "      <button class=\"colab-df-convert\" onclick=\"convertToInteractive('df-a47edefc-5561-4692-aed3-6a7885a5d6ee')\"\n",
       "              title=\"Convert this dataframe to an interactive table.\"\n",
       "              style=\"display:none;\">\n",
       "        \n",
       "  <svg xmlns=\"http://www.w3.org/2000/svg\" height=\"24px\"viewBox=\"0 0 24 24\"\n",
       "       width=\"24px\">\n",
       "    <path d=\"M0 0h24v24H0V0z\" fill=\"none\"/>\n",
       "    <path d=\"M18.56 5.44l.94 2.06.94-2.06 2.06-.94-2.06-.94-.94-2.06-.94 2.06-2.06.94zm-11 1L8.5 8.5l.94-2.06 2.06-.94-2.06-.94L8.5 2.5l-.94 2.06-2.06.94zm10 10l.94 2.06.94-2.06 2.06-.94-2.06-.94-.94-2.06-.94 2.06-2.06.94z\"/><path d=\"M17.41 7.96l-1.37-1.37c-.4-.4-.92-.59-1.43-.59-.52 0-1.04.2-1.43.59L10.3 9.45l-7.72 7.72c-.78.78-.78 2.05 0 2.83L4 21.41c.39.39.9.59 1.41.59.51 0 1.02-.2 1.41-.59l7.78-7.78 2.81-2.81c.8-.78.8-2.07 0-2.86zM5.41 20L4 18.59l7.72-7.72 1.47 1.35L5.41 20z\"/>\n",
       "  </svg>\n",
       "      </button>\n",
       "      \n",
       "  <style>\n",
       "    .colab-df-container {\n",
       "      display:flex;\n",
       "      flex-wrap:wrap;\n",
       "      gap: 12px;\n",
       "    }\n",
       "\n",
       "    .colab-df-convert {\n",
       "      background-color: #E8F0FE;\n",
       "      border: none;\n",
       "      border-radius: 50%;\n",
       "      cursor: pointer;\n",
       "      display: none;\n",
       "      fill: #1967D2;\n",
       "      height: 32px;\n",
       "      padding: 0 0 0 0;\n",
       "      width: 32px;\n",
       "    }\n",
       "\n",
       "    .colab-df-convert:hover {\n",
       "      background-color: #E2EBFA;\n",
       "      box-shadow: 0px 1px 2px rgba(60, 64, 67, 0.3), 0px 1px 3px 1px rgba(60, 64, 67, 0.15);\n",
       "      fill: #174EA6;\n",
       "    }\n",
       "\n",
       "    [theme=dark] .colab-df-convert {\n",
       "      background-color: #3B4455;\n",
       "      fill: #D2E3FC;\n",
       "    }\n",
       "\n",
       "    [theme=dark] .colab-df-convert:hover {\n",
       "      background-color: #434B5C;\n",
       "      box-shadow: 0px 1px 3px 1px rgba(0, 0, 0, 0.15);\n",
       "      filter: drop-shadow(0px 1px 2px rgba(0, 0, 0, 0.3));\n",
       "      fill: #FFFFFF;\n",
       "    }\n",
       "  </style>\n",
       "\n",
       "      <script>\n",
       "        const buttonEl =\n",
       "          document.querySelector('#df-a47edefc-5561-4692-aed3-6a7885a5d6ee button.colab-df-convert');\n",
       "        buttonEl.style.display =\n",
       "          google.colab.kernel.accessAllowed ? 'block' : 'none';\n",
       "\n",
       "        async function convertToInteractive(key) {\n",
       "          const element = document.querySelector('#df-a47edefc-5561-4692-aed3-6a7885a5d6ee');\n",
       "          const dataTable =\n",
       "            await google.colab.kernel.invokeFunction('convertToInteractive',\n",
       "                                                     [key], {});\n",
       "          if (!dataTable) return;\n",
       "\n",
       "          const docLinkHtml = 'Like what you see? Visit the ' +\n",
       "            '<a target=\"_blank\" href=https://colab.research.google.com/notebooks/data_table.ipynb>data table notebook</a>'\n",
       "            + ' to learn more about interactive tables.';\n",
       "          element.innerHTML = '';\n",
       "          dataTable['output_type'] = 'display_data';\n",
       "          await google.colab.output.renderOutput(dataTable, element);\n",
       "          const docLink = document.createElement('div');\n",
       "          docLink.innerHTML = docLinkHtml;\n",
       "          element.appendChild(docLink);\n",
       "        }\n",
       "      </script>\n",
       "    </div>\n",
       "  </div>\n",
       "  "
      ],
      "text/plain": [
       "              Close\n",
       "time_stamp         \n",
       "2020-04-28  1937.85\n",
       "2020-04-29  1988.65\n",
       "2020-04-30  1997.30\n",
       "2020-05-01  2024.05\n",
       "2020-05-04  1994.50"
      ]
     },
     "execution_count": 9,
     "metadata": {},
     "output_type": "execute_result"
    }
   ],
   "source": [
    "df.tail()"
   ]
  },
  {
   "cell_type": "code",
   "execution_count": 10,
   "id": "yBDUaFhPzMMb",
   "metadata": {
    "id": "yBDUaFhPzMMb"
   },
   "outputs": [],
   "source": [
    "plt.rcParams['figure.figsize'] = [15,8]"
   ]
  },
  {
   "cell_type": "code",
   "execution_count": 11,
   "id": "cIgSM89EzBTw",
   "metadata": {
    "colab": {
     "base_uri": "https://localhost:8080/",
     "height": 523
    },
    "id": "cIgSM89EzBTw",
    "outputId": "818af173-bda6-4b52-c785-238953d2c156"
   },
   "outputs": [
    {
     "data": {
      "image/png": "[encoded data removed]",
      "text/plain": [
       "<Figure size 1080x576 with 1 Axes>"
      ]
     },
     "metadata": {
      "needs_background": "light"
     },
     "output_type": "display_data"
    }
   ],
   "source": [
    "plt.plot(df,color='black')\n",
    "plt.title('Daily Reliance Stock Price',fontsize=20)\n",
    "plt.xlabel('Date',fontsize=15)\n",
    "plt.ylabel('Units',fontsize=15)\n",
    "plt.show()"
   ]
  },
  {
   "cell_type": "code",
   "execution_count": 12,
   "id": "bf59d3e0",
   "metadata": {
    "id": "bf59d3e0"
   },
   "outputs": [],
   "source": [
    "def convert2matrix(data_arr, look_back):\n",
    "    X, Y =[], []\n",
    "    for i in range(len(data_arr)-look_back):\n",
    "        d=i+look_back  \n",
    "        X.append(data_arr[i:d,0])\n",
    "        Y.append(data_arr[d,0])\n",
    "    return np.array(X), np.array(Y)"
   ]
  },
  {
   "cell_type": "code",
   "execution_count": 13,
   "id": "5CBL1GHqurmE",
   "metadata": {
    "id": "5CBL1GHqurmE"
   },
   "outputs": [],
   "source": [
    "from sklearn.preprocessing import MinMaxScaler\n",
    "#create numpy.ndarray \n",
    "df['Close'] = df['Close'].astype(np.float32)\n",
    "df_arr = df.values\n",
    "df_arr = np.reshape(df_arr, (-1, 1))\n",
    "scaler = MinMaxScaler(feature_range=(0.1, 1))\n",
    "df_arr = scaler.fit_transform(df_arr)"
   ]
  },
  {
   "cell_type": "code",
   "execution_count": 14,
   "id": "1cea6c5f",
   "metadata": {
    "id": "1cea6c5f"
   },
   "outputs": [],
   "source": [
    "#Split data set into testing dataset and train dataset\n",
    "train_size = 4775\n",
    "train, test =df_arr[0:train_size,:], df_arr[train_size:len(df_arr),:]\n",
    "# setup look_back window \n",
    "look_back = 4\n",
    "#convert dataset into right shape in order to input into the DNN\n",
    "trainX, trainY = convert2matrix(train, look_back)\n",
    "testX, testY = convert2matrix(test, look_back)\n",
    "# reshape input to be [samples, window size, features]\n",
    "trainX = np.reshape(trainX, (trainX.shape[0], 1, trainX.shape[1]))\n",
    "testX = np.reshape(testX, (testX.shape[0], 1, testX.shape[1]))"
   ]
  },
  {
   "cell_type": "code",
   "execution_count": 15,
   "id": "c7d46c39",
   "metadata": {
    "colab": {
     "base_uri": "https://localhost:8080/"
    },
    "id": "c7d46c39",
    "outputId": "5aab6aca-c8f0-4545-b15b-a0898696a5fb"
   },
   "outputs": [
    {
     "name": "stdout",
     "output_type": "stream",
     "text": [
      "(4771, 1, 4)\n",
      "(4771,)\n",
      "(527, 1, 4)\n",
      "(527,)\n"
     ]
    }
   ],
   "source": [
    "print(trainX.shape)\n",
    "print(trainY.shape)\n",
    "print(testX.shape)\n",
    "print(testY.shape)"
   ]
  },
  {
   "cell_type": "code",
   "execution_count": 16,
   "id": "GIc1nRcCuP3G",
   "metadata": {
    "colab": {
     "base_uri": "https://localhost:8080/"
    },
    "id": "GIc1nRcCuP3G",
    "outputId": "7d630ea9-3586-48ed-aab9-1e7794560599"
   },
   "outputs": [
    {
     "name": "stdout",
     "output_type": "stream",
     "text": [
      "\u001b[?25l\r",
      "\u001b[K     |██▌                             | 10 kB 19.9 MB/s eta 0:00:01\r",
      "\u001b[K     |█████                           | 20 kB 24.4 MB/s eta 0:00:01\r",
      "\u001b[K     |███████▍                        | 30 kB 29.4 MB/s eta 0:00:01\r",
      "\u001b[K     |█████████▉                      | 40 kB 9.2 MB/s eta 0:00:01\r",
      "\u001b[K     |████████████▎                   | 51 kB 8.1 MB/s eta 0:00:01\r",
      "\u001b[K     |██████████████▊                 | 61 kB 9.4 MB/s eta 0:00:01\r",
      "\u001b[K     |█████████████████▏              | 71 kB 8.3 MB/s eta 0:00:01\r",
      "\u001b[K     |███████████████████▋            | 81 kB 8.2 MB/s eta 0:00:01\r",
      "\u001b[K     |██████████████████████          | 92 kB 9.0 MB/s eta 0:00:01\r",
      "\u001b[K     |████████████████████████▌       | 102 kB 8.8 MB/s eta 0:00:01\r",
      "\u001b[K     |███████████████████████████     | 112 kB 8.8 MB/s eta 0:00:01\r",
      "\u001b[K     |█████████████████████████████▍  | 122 kB 8.8 MB/s eta 0:00:01\r",
      "\u001b[K     |███████████████████████████████▉| 133 kB 8.8 MB/s eta 0:00:01\r",
      "\u001b[K     |████████████████████████████████| 133 kB 8.8 MB/s \n",
      "\u001b[?25h"
     ]
    }
   ],
   "source": [
    "!pip install -q -U keras-tuner"
   ]
  },
  {
   "cell_type": "code",
   "execution_count": 17,
   "id": "M5te5ih0uP6u",
   "metadata": {
    "id": "M5te5ih0uP6u"
   },
   "outputs": [],
   "source": [
    "import pandas as pd\n",
    "from tensorflow import keras\n",
    "from tensorflow.keras import layers\n",
    "from keras_tuner.tuners import RandomSearch\n",
    "from tensorflow.keras.models import Sequential\n",
    "from tensorflow.keras.layers import LSTM\n",
    "from tensorflow.keras.layers import Dense,Dropout\n",
    "from tensorflow.keras.layers import Flatten\n",
    "import matplotlib.pyplot as plt"
   ]
  },
  {
   "cell_type": "code",
   "execution_count": null,
   "id": "rYiJC5hXuP_e",
   "metadata": {
    "id": "rYiJC5hXuP_e"
   },
   "outputs": [],
   "source": [
    "def build_model(hp):\n",
    "    model = keras.Sequential()\n",
    "    model.add(SimpleRNN(hp.Int('rnn_layer_1',min_value=8,max_value=256,step=8), activation=\"relu\", input_shape=(1,look_back),recurrent_dropout = hp.Choice(\"recurrent_dropout\",[0.2,0.3,0.4],default=0.2)))\n",
    "    model.add(Dense(hp.Int('dense_layer_1',min_value=8,max_value=256,step=8),activation=\"relu\"))\n",
    "    model.add(Dropout(hp.Float('Dropout_rate',min_value=0,max_value=0.5,step=0.1)))\n",
    "    model.add(layers.Dense(1, activation='linear'))\n",
    "    model.compile(\n",
    "        optimizer=keras.optimizers.Adam(\n",
    "             hp.Float('learning_rate', min_value=1e-3, max_value=1e-1, sampling=\"log\")),\n",
    "        loss='mape',\n",
    "        metrics=['mape'])\n",
    "    return model"
   ]
  },
  {
   "cell_type": "code",
   "execution_count": null,
   "id": "2h_gRerjuQCT",
   "metadata": {
    "id": "2h_gRerjuQCT"
   },
   "outputs": [],
   "source": [
    "tuner = RandomSearch(\n",
    "    build_model,\n",
    "    objective='val_mape',\n",
    "    max_trials=10,\n",
    "    executions_per_trial=1,\n",
    "    directory='project',\n",
    "    project_name='loa_em_3')"
   ]
  },
  {
   "cell_type": "code",
   "execution_count": null,
   "id": "Dg5AHN3guQFu",
   "metadata": {
    "colab": {
     "base_uri": "https://localhost:8080/"
    },
    "id": "Dg5AHN3guQFu",
    "outputId": "6baa39d1-e351-4539-c266-1bac583a7576"
   },
   "outputs": [
    {
     "name": "stdout",
     "output_type": "stream",
     "text": [
      "Search space summary\n",
      "Default search space size: 5\n",
      "rnn_layer_1 (Int)\n",
      "{'default': None, 'conditions': [], 'min_value': 8, 'max_value': 256, 'step': 8, 'sampling': None}\n",
      "recurrent_dropout (Choice)\n",
      "{'default': 0.2, 'conditions': [], 'values': [0.2, 0.3, 0.4], 'ordered': True}\n",
      "dense_layer_1 (Int)\n",
      "{'default': None, 'conditions': [], 'min_value': 8, 'max_value': 256, 'step': 8, 'sampling': None}\n",
      "Dropout_rate (Float)\n",
      "{'default': 0.0, 'conditions': [], 'min_value': 0.0, 'max_value': 0.5, 'step': 0.1, 'sampling': None}\n",
      "learning_rate (Float)\n",
      "{'default': 0.001, 'conditions': [], 'min_value': 0.001, 'max_value': 0.1, 'step': None, 'sampling': 'log'}\n"
     ]
    }
   ],
   "source": [
    "tuner.search_space_summary()"
   ]
  },
  {
   "cell_type": "code",
   "execution_count": null,
   "id": "TiBXdF0K8Gpr",
   "metadata": {
    "colab": {
     "base_uri": "https://localhost:8080/"
    },
    "id": "TiBXdF0K8Gpr",
    "outputId": "5192ec92-c9ec-4fe6-cfe4-e43a6eebf761"
   },
   "outputs": [
    {
     "name": "stdout",
     "output_type": "stream",
     "text": [
      "Trial 10 Complete [00h 01m 30s]\n",
      "val_mape: 1.4559770822525024\n",
      "\n",
      "Best val_mape So Far: 1.4449316263198853\n",
      "Total elapsed time: 00h 17m 47s\n",
      "INFO:tensorflow:Oracle triggered exit\n"
     ]
    }
   ],
   "source": [
    "tuner.search(trainX, trainY,\n",
    "             epochs=200,\n",
    "             batch_size=35,\n",
    "             validation_data=(testX, testY))"
   ]
  },
  {
   "cell_type": "code",
   "execution_count": null,
   "id": "VXXGH_RK8GsD",
   "metadata": {
    "colab": {
     "base_uri": "https://localhost:8080/"
    },
    "id": "VXXGH_RK8GsD",
    "outputId": "57e40f83-d861-44eb-a234-5ff159c5ab6f"
   },
   "outputs": [
    {
     "name": "stdout",
     "output_type": "stream",
     "text": [
      "Results summary\n",
      "Results in project/loa_em_3\n",
      "Showing 10 best trials\n",
      "Objective(name='val_mape', direction='min')\n",
      "Trial summary\n",
      "Hyperparameters:\n",
      "rnn_layer_1: 168\n",
      "recurrent_dropout: 0.3\n",
      "dense_layer_1: 88\n",
      "Dropout_rate: 0.0\n",
      "learning_rate: 0.0019397829726650643\n",
      "Score: 1.4449316263198853\n",
      "Trial summary\n",
      "Hyperparameters:\n",
      "rnn_layer_1: 136\n",
      "recurrent_dropout: 0.3\n",
      "dense_layer_1: 56\n",
      "Dropout_rate: 0.0\n",
      "learning_rate: 0.018144908224752638\n",
      "Score: 1.447052001953125\n",
      "Trial summary\n",
      "Hyperparameters:\n",
      "rnn_layer_1: 232\n",
      "recurrent_dropout: 0.4\n",
      "dense_layer_1: 136\n",
      "Dropout_rate: 0.2\n",
      "learning_rate: 0.0016082664750335192\n",
      "Score: 1.450911521911621\n",
      "Trial summary\n",
      "Hyperparameters:\n",
      "rnn_layer_1: 128\n",
      "recurrent_dropout: 0.4\n",
      "dense_layer_1: 88\n",
      "Dropout_rate: 0.1\n",
      "learning_rate: 0.0018774696705689475\n",
      "Score: 1.4559770822525024\n",
      "Trial summary\n",
      "Hyperparameters:\n",
      "rnn_layer_1: 32\n",
      "recurrent_dropout: 0.4\n",
      "dense_layer_1: 160\n",
      "Dropout_rate: 0.2\n",
      "learning_rate: 0.011425812573577809\n",
      "Score: 1.4612125158309937\n",
      "Trial summary\n",
      "Hyperparameters:\n",
      "rnn_layer_1: 208\n",
      "recurrent_dropout: 0.4\n",
      "dense_layer_1: 88\n",
      "Dropout_rate: 0.30000000000000004\n",
      "learning_rate: 0.055962630104591043\n",
      "Score: 1.472888469696045\n",
      "Trial summary\n",
      "Hyperparameters:\n",
      "rnn_layer_1: 120\n",
      "recurrent_dropout: 0.3\n",
      "dense_layer_1: 152\n",
      "Dropout_rate: 0.4\n",
      "learning_rate: 0.0010854128446585705\n",
      "Score: 1.4834364652633667\n",
      "Trial summary\n",
      "Hyperparameters:\n",
      "rnn_layer_1: 192\n",
      "recurrent_dropout: 0.4\n",
      "dense_layer_1: 208\n",
      "Dropout_rate: 0.30000000000000004\n",
      "learning_rate: 0.0154976703990679\n",
      "Score: 1.486486554145813\n",
      "Trial summary\n",
      "Hyperparameters:\n",
      "rnn_layer_1: 104\n",
      "recurrent_dropout: 0.3\n",
      "dense_layer_1: 80\n",
      "Dropout_rate: 0.5\n",
      "learning_rate: 0.0064748734504357745\n",
      "Score: 1.5057257413864136\n",
      "Trial summary\n",
      "Hyperparameters:\n",
      "rnn_layer_1: 48\n",
      "recurrent_dropout: 0.4\n",
      "dense_layer_1: 16\n",
      "Dropout_rate: 0.5\n",
      "learning_rate: 0.01858634561395444\n",
      "Score: 1.6144616603851318\n"
     ]
    }
   ],
   "source": [
    "tuner.results_summary()"
   ]
  },
  {
   "cell_type": "code",
   "execution_count": null,
   "id": "FBpLenJ_DZMX",
   "metadata": {
    "id": "FBpLenJ_DZMX"
   },
   "outputs": [],
   "source": [
    "from warnings import filterwarnings\n",
    "filterwarnings('ignore')"
   ]
  },
  {
   "cell_type": "code",
   "execution_count": null,
   "id": "eL-a8rAv8Gvg",
   "metadata": {
    "colab": {
     "base_uri": "https://localhost:8080/"
    },
    "id": "eL-a8rAv8Gvg",
    "outputId": "77e51c95-d3eb-4e86-a146-3d14289dcd7f"
   },
   "outputs": [
    {
     "name": "stdout",
     "output_type": "stream",
     "text": [
      "Model: \"sequential\"\n",
      "_________________________________________________________________\n",
      " Layer (type)                Output Shape              Param #   \n",
      "=================================================================\n",
      " simple_rnn (SimpleRNN)      (None, 168)               29064     \n",
      "                                                                 \n",
      " dense (Dense)               (None, 88)                14872     \n",
      "                                                                 \n",
      " dropout (Dropout)           (None, 88)                0         \n",
      "                                                                 \n",
      " dense_1 (Dense)             (None, 1)                 89        \n",
      "                                                                 \n",
      "=================================================================\n",
      "Total params: 44,025\n",
      "Trainable params: 44,025\n",
      "Non-trainable params: 0\n",
      "_________________________________________________________________\n"
     ]
    }
   ],
   "source": [
    "models = tuner.get_best_models(num_models=2)\n",
    "best_model = models[0]\n",
    "# Build the model.\n",
    "# Needed for `Sequential` without specified `input_shape`.\n",
    "best_model.build(input_shape=(None, 4))\n",
    "best_model.summary()"
   ]
  },
  {
   "cell_type": "code",
   "execution_count": 19,
   "id": "ovKDjDHZEmLV",
   "metadata": {
    "id": "ovKDjDHZEmLV"
   },
   "outputs": [],
   "source": [
    "from tensorflow.keras import optimizers\n",
    "from tensorflow.keras.callbacks import EarlyStopping"
   ]
  },
  {
   "cell_type": "code",
   "execution_count": 21,
   "id": "9NTj0UnjLqZa",
   "metadata": {
    "colab": {
     "base_uri": "https://localhost:8080/"
    },
    "id": "9NTj0UnjLqZa",
    "outputId": "1e320aba-b7ec-4d90-81bc-5ea0e6975d45"
   },
   "outputs": [
    {
     "name": "stdout",
     "output_type": "stream",
     "text": [
      "Epoch 1/100\n",
      "137/137 [==============================] - 2s 6ms/step - loss: 151.0718 - mape: 151.0718 - val_loss: 147.8227 - val_mape: 147.8227\n",
      "Epoch 2/100\n",
      "137/137 [==============================] - 0s 2ms/step - loss: 139.4149 - mape: 139.4149 - val_loss: 138.9433 - val_mape: 138.9433\n",
      "Epoch 3/100\n",
      "137/137 [==============================] - 0s 2ms/step - loss: 128.1914 - mape: 128.1914 - val_loss: 130.3754 - val_mape: 130.3754\n",
      "Epoch 4/100\n",
      "137/137 [==============================] - 0s 3ms/step - loss: 117.3523 - mape: 117.3523 - val_loss: 122.0789 - val_mape: 122.0789\n",
      "Epoch 5/100\n",
      "137/137 [==============================] - 0s 2ms/step - loss: 106.5836 - mape: 106.5836 - val_loss: 113.6775 - val_mape: 113.6775\n",
      "Epoch 6/100\n",
      "137/137 [==============================] - 0s 3ms/step - loss: 96.1113 - mape: 96.1113 - val_loss: 105.4650 - val_mape: 105.4650\n",
      "Epoch 7/100\n",
      "137/137 [==============================] - 0s 2ms/step - loss: 85.9005 - mape: 85.9005 - val_loss: 97.4161 - val_mape: 97.4161\n",
      "Epoch 8/100\n",
      "137/137 [==============================] - 0s 2ms/step - loss: 75.8711 - mape: 75.8711 - val_loss: 89.4985 - val_mape: 89.4985\n",
      "Epoch 9/100\n",
      "137/137 [==============================] - 0s 2ms/step - loss: 65.9528 - mape: 65.9528 - val_loss: 81.7173 - val_mape: 81.7173\n",
      "Epoch 10/100\n",
      "137/137 [==============================] - 0s 2ms/step - loss: 56.1938 - mape: 56.1938 - val_loss: 74.1383 - val_mape: 74.1383\n",
      "Epoch 11/100\n",
      "137/137 [==============================] - 0s 2ms/step - loss: 47.7082 - mape: 47.7082 - val_loss: 67.4330 - val_mape: 67.4330\n",
      "Epoch 12/100\n",
      "137/137 [==============================] - 0s 2ms/step - loss: 42.2864 - mape: 42.2864 - val_loss: 62.1802 - val_mape: 62.1802\n",
      "Epoch 13/100\n",
      "137/137 [==============================] - 0s 2ms/step - loss: 38.8819 - mape: 38.8819 - val_loss: 57.5324 - val_mape: 57.5324\n",
      "Epoch 14/100\n",
      "137/137 [==============================] - 0s 2ms/step - loss: 36.0461 - mape: 36.0461 - val_loss: 53.0455 - val_mape: 53.0455\n",
      "Epoch 15/100\n",
      "137/137 [==============================] - 0s 2ms/step - loss: 33.4716 - mape: 33.4716 - val_loss: 48.7373 - val_mape: 48.7373\n",
      "Epoch 16/100\n",
      "137/137 [==============================] - 0s 2ms/step - loss: 31.1727 - mape: 31.1727 - val_loss: 44.5712 - val_mape: 44.5712\n",
      "Epoch 17/100\n",
      "137/137 [==============================] - 0s 2ms/step - loss: 29.1970 - mape: 29.1970 - val_loss: 40.8670 - val_mape: 40.8670\n",
      "Epoch 18/100\n",
      "137/137 [==============================] - 0s 2ms/step - loss: 27.6401 - mape: 27.6401 - val_loss: 37.5250 - val_mape: 37.5250\n",
      "Epoch 19/100\n",
      "137/137 [==============================] - 0s 2ms/step - loss: 26.2721 - mape: 26.2721 - val_loss: 34.3323 - val_mape: 34.3323\n",
      "Epoch 20/100\n",
      "137/137 [==============================] - 0s 2ms/step - loss: 24.9196 - mape: 24.9196 - val_loss: 31.0722 - val_mape: 31.0722\n",
      "Epoch 21/100\n",
      "137/137 [==============================] - 0s 2ms/step - loss: 23.5882 - mape: 23.5882 - val_loss: 27.8832 - val_mape: 27.8832\n",
      "Epoch 22/100\n",
      "137/137 [==============================] - 0s 2ms/step - loss: 22.4453 - mape: 22.4453 - val_loss: 25.3273 - val_mape: 25.3273\n",
      "Epoch 23/100\n",
      "137/137 [==============================] - 0s 2ms/step - loss: 21.4944 - mape: 21.4944 - val_loss: 23.2745 - val_mape: 23.2745\n",
      "Epoch 24/100\n",
      "137/137 [==============================] - 0s 2ms/step - loss: 20.6322 - mape: 20.6322 - val_loss: 21.7200 - val_mape: 21.7200\n",
      "Epoch 25/100\n",
      "137/137 [==============================] - 0s 2ms/step - loss: 19.8091 - mape: 19.8091 - val_loss: 20.5989 - val_mape: 20.5989\n",
      "Epoch 26/100\n",
      "137/137 [==============================] - 0s 2ms/step - loss: 18.9675 - mape: 18.9675 - val_loss: 19.4978 - val_mape: 19.4978\n",
      "Epoch 27/100\n",
      "137/137 [==============================] - 0s 2ms/step - loss: 18.0899 - mape: 18.0899 - val_loss: 18.6041 - val_mape: 18.6041\n",
      "Epoch 28/100\n",
      "137/137 [==============================] - 0s 2ms/step - loss: 17.1692 - mape: 17.1692 - val_loss: 17.6029 - val_mape: 17.6029\n",
      "Epoch 29/100\n",
      "137/137 [==============================] - 0s 2ms/step - loss: 16.2168 - mape: 16.2168 - val_loss: 16.6601 - val_mape: 16.6601\n",
      "Epoch 30/100\n",
      "137/137 [==============================] - 0s 2ms/step - loss: 15.2345 - mape: 15.2345 - val_loss: 15.6435 - val_mape: 15.6435\n",
      "Epoch 31/100\n",
      "137/137 [==============================] - 0s 2ms/step - loss: 14.2141 - mape: 14.2141 - val_loss: 14.5905 - val_mape: 14.5905\n",
      "Epoch 32/100\n",
      "137/137 [==============================] - 0s 2ms/step - loss: 13.1686 - mape: 13.1686 - val_loss: 13.5480 - val_mape: 13.5480\n",
      "Epoch 33/100\n",
      "137/137 [==============================] - 0s 2ms/step - loss: 12.1290 - mape: 12.1290 - val_loss: 12.3557 - val_mape: 12.3557\n",
      "Epoch 34/100\n",
      "137/137 [==============================] - 0s 3ms/step - loss: 11.0832 - mape: 11.0832 - val_loss: 11.3837 - val_mape: 11.3837\n",
      "Epoch 35/100\n",
      "137/137 [==============================] - 0s 2ms/step - loss: 10.0285 - mape: 10.0285 - val_loss: 10.2078 - val_mape: 10.2078\n",
      "Epoch 36/100\n",
      "137/137 [==============================] - 0s 2ms/step - loss: 8.9580 - mape: 8.9580 - val_loss: 9.1179 - val_mape: 9.1179\n",
      "Epoch 37/100\n",
      "137/137 [==============================] - 0s 2ms/step - loss: 7.8823 - mape: 7.8823 - val_loss: 7.8080 - val_mape: 7.8080\n",
      "Epoch 38/100\n",
      "137/137 [==============================] - 0s 2ms/step - loss: 6.8036 - mape: 6.8036 - val_loss: 6.8029 - val_mape: 6.8029\n",
      "Epoch 39/100\n",
      "137/137 [==============================] - 0s 2ms/step - loss: 5.7234 - mape: 5.7234 - val_loss: 5.8296 - val_mape: 5.8296\n",
      "Epoch 40/100\n",
      "137/137 [==============================] - 0s 3ms/step - loss: 4.6674 - mape: 4.6674 - val_loss: 4.7676 - val_mape: 4.7676\n",
      "Epoch 41/100\n",
      "137/137 [==============================] - 0s 2ms/step - loss: 3.6649 - mape: 3.6649 - val_loss: 3.6646 - val_mape: 3.6646\n",
      "Epoch 42/100\n",
      "137/137 [==============================] - 0s 2ms/step - loss: 2.6499 - mape: 2.6499 - val_loss: 2.5806 - val_mape: 2.5806\n",
      "Epoch 43/100\n",
      "137/137 [==============================] - 0s 2ms/step - loss: 1.9611 - mape: 1.9611 - val_loss: 2.0274 - val_mape: 2.0274\n",
      "Epoch 44/100\n",
      "137/137 [==============================] - 0s 2ms/step - loss: 1.7639 - mape: 1.7639 - val_loss: 1.9136 - val_mape: 1.9136\n",
      "Epoch 45/100\n",
      "137/137 [==============================] - 0s 2ms/step - loss: 1.6321 - mape: 1.6321 - val_loss: 1.7438 - val_mape: 1.7438\n",
      "Epoch 46/100\n",
      "137/137 [==============================] - 0s 2ms/step - loss: 1.5790 - mape: 1.5790 - val_loss: 1.7055 - val_mape: 1.7055\n",
      "Epoch 47/100\n",
      "137/137 [==============================] - 0s 3ms/step - loss: 1.5494 - mape: 1.5494 - val_loss: 1.7075 - val_mape: 1.7075\n",
      "Epoch 48/100\n",
      "137/137 [==============================] - 0s 2ms/step - loss: 1.5328 - mape: 1.5328 - val_loss: 1.6694 - val_mape: 1.6694\n",
      "Epoch 49/100\n",
      "137/137 [==============================] - 0s 2ms/step - loss: 1.5273 - mape: 1.5273 - val_loss: 1.6639 - val_mape: 1.6639\n",
      "Epoch 50/100\n",
      "137/137 [==============================] - 0s 3ms/step - loss: 1.5217 - mape: 1.5217 - val_loss: 1.6613 - val_mape: 1.6613\n",
      "Epoch 51/100\n",
      "137/137 [==============================] - 0s 2ms/step - loss: 1.5158 - mape: 1.5158 - val_loss: 1.6551 - val_mape: 1.6551\n",
      "Epoch 52/100\n",
      "137/137 [==============================] - 0s 3ms/step - loss: 1.5128 - mape: 1.5128 - val_loss: 1.6517 - val_mape: 1.6517\n",
      "Epoch 53/100\n",
      "137/137 [==============================] - 0s 2ms/step - loss: 1.5116 - mape: 1.5116 - val_loss: 1.6532 - val_mape: 1.6532\n",
      "Epoch 54/100\n",
      "137/137 [==============================] - 0s 2ms/step - loss: 1.5120 - mape: 1.5120 - val_loss: 1.6454 - val_mape: 1.6454\n",
      "Epoch 55/100\n",
      "137/137 [==============================] - 0s 2ms/step - loss: 1.5071 - mape: 1.5071 - val_loss: 1.6423 - val_mape: 1.6423\n",
      "Epoch 56/100\n",
      "137/137 [==============================] - 0s 2ms/step - loss: 1.5048 - mape: 1.5048 - val_loss: 1.6398 - val_mape: 1.6398\n",
      "Epoch 57/100\n",
      "137/137 [==============================] - 0s 2ms/step - loss: 1.5028 - mape: 1.5028 - val_loss: 1.6388 - val_mape: 1.6388\n",
      "Epoch 58/100\n",
      "137/137 [==============================] - 0s 2ms/step - loss: 1.4990 - mape: 1.4990 - val_loss: 1.6366 - val_mape: 1.6366\n",
      "Epoch 59/100\n",
      "137/137 [==============================] - 0s 2ms/step - loss: 1.4984 - mape: 1.4984 - val_loss: 1.6325 - val_mape: 1.6325\n",
      "Epoch 60/100\n",
      "137/137 [==============================] - 0s 3ms/step - loss: 1.4978 - mape: 1.4978 - val_loss: 1.6297 - val_mape: 1.6297\n",
      "Epoch 61/100\n",
      "137/137 [==============================] - 0s 2ms/step - loss: 1.4937 - mape: 1.4937 - val_loss: 1.6253 - val_mape: 1.6253\n",
      "Epoch 62/100\n",
      "137/137 [==============================] - 0s 2ms/step - loss: 1.4941 - mape: 1.4941 - val_loss: 1.6220 - val_mape: 1.6220\n",
      "Epoch 63/100\n",
      "137/137 [==============================] - 0s 2ms/step - loss: 1.4892 - mape: 1.4892 - val_loss: 1.6169 - val_mape: 1.6169\n",
      "Epoch 64/100\n",
      "137/137 [==============================] - 0s 2ms/step - loss: 1.4867 - mape: 1.4867 - val_loss: 1.6118 - val_mape: 1.6118\n",
      "Epoch 65/100\n",
      "137/137 [==============================] - 0s 2ms/step - loss: 1.4876 - mape: 1.4876 - val_loss: 1.6137 - val_mape: 1.6137\n",
      "Epoch 66/100\n",
      "137/137 [==============================] - 0s 2ms/step - loss: 1.4832 - mape: 1.4832 - val_loss: 1.6115 - val_mape: 1.6115\n",
      "Epoch 67/100\n",
      "137/137 [==============================] - 0s 2ms/step - loss: 1.4815 - mape: 1.4815 - val_loss: 1.6225 - val_mape: 1.6225\n",
      "Epoch 68/100\n",
      "137/137 [==============================] - 0s 2ms/step - loss: 1.4812 - mape: 1.4812 - val_loss: 1.6038 - val_mape: 1.6038\n",
      "Epoch 69/100\n",
      "137/137 [==============================] - 0s 3ms/step - loss: 1.4803 - mape: 1.4803 - val_loss: 1.6095 - val_mape: 1.6095\n",
      "Epoch 70/100\n",
      "137/137 [==============================] - 0s 2ms/step - loss: 1.4807 - mape: 1.4807 - val_loss: 1.6060 - val_mape: 1.6060\n",
      "Epoch 71/100\n",
      "137/137 [==============================] - 0s 2ms/step - loss: 1.4781 - mape: 1.4781 - val_loss: 1.5982 - val_mape: 1.5982\n",
      "Epoch 72/100\n",
      "137/137 [==============================] - 0s 3ms/step - loss: 1.4746 - mape: 1.4746 - val_loss: 1.5986 - val_mape: 1.5986\n",
      "Epoch 73/100\n",
      "137/137 [==============================] - 0s 2ms/step - loss: 1.4725 - mape: 1.4725 - val_loss: 1.5931 - val_mape: 1.5931\n",
      "Epoch 74/100\n",
      "137/137 [==============================] - 0s 2ms/step - loss: 1.4739 - mape: 1.4739 - val_loss: 1.5964 - val_mape: 1.5964\n",
      "Epoch 75/100\n",
      "137/137 [==============================] - 0s 2ms/step - loss: 1.4715 - mape: 1.4715 - val_loss: 1.5924 - val_mape: 1.5924\n",
      "Epoch 76/100\n",
      "137/137 [==============================] - 0s 2ms/step - loss: 1.4679 - mape: 1.4679 - val_loss: 1.5854 - val_mape: 1.5854\n",
      "Epoch 77/100\n",
      "137/137 [==============================] - 0s 2ms/step - loss: 1.4667 - mape: 1.4667 - val_loss: 1.5870 - val_mape: 1.5870\n",
      "Epoch 78/100\n",
      "137/137 [==============================] - 0s 2ms/step - loss: 1.4642 - mape: 1.4642 - val_loss: 1.6011 - val_mape: 1.6011\n",
      "Epoch 79/100\n",
      "137/137 [==============================] - 0s 2ms/step - loss: 1.4646 - mape: 1.4646 - val_loss: 1.5874 - val_mape: 1.5874\n",
      "Epoch 80/100\n",
      "137/137 [==============================] - 0s 2ms/step - loss: 1.4647 - mape: 1.4647 - val_loss: 1.5866 - val_mape: 1.5866\n",
      "Epoch 81/100\n",
      "137/137 [==============================] - 0s 3ms/step - loss: 1.4599 - mape: 1.4599 - val_loss: 1.5750 - val_mape: 1.5750\n",
      "Epoch 82/100\n",
      "137/137 [==============================] - 0s 2ms/step - loss: 1.4640 - mape: 1.4640 - val_loss: 1.5738 - val_mape: 1.5738\n",
      "Epoch 83/100\n",
      "137/137 [==============================] - 0s 2ms/step - loss: 1.4580 - mape: 1.4580 - val_loss: 1.5727 - val_mape: 1.5727\n",
      "Epoch 84/100\n",
      "137/137 [==============================] - 0s 2ms/step - loss: 1.4580 - mape: 1.4580 - val_loss: 1.5818 - val_mape: 1.5818\n",
      "Epoch 85/100\n",
      "137/137 [==============================] - 0s 2ms/step - loss: 1.4545 - mape: 1.4545 - val_loss: 1.5692 - val_mape: 1.5692\n",
      "Epoch 86/100\n",
      "137/137 [==============================] - 0s 2ms/step - loss: 1.4542 - mape: 1.4542 - val_loss: 1.5858 - val_mape: 1.5858\n",
      "Epoch 87/100\n",
      "137/137 [==============================] - 0s 2ms/step - loss: 1.4507 - mape: 1.4507 - val_loss: 1.5987 - val_mape: 1.5987\n",
      "Epoch 88/100\n",
      "137/137 [==============================] - 0s 2ms/step - loss: 1.4479 - mape: 1.4479 - val_loss: 1.5708 - val_mape: 1.5708\n",
      "Epoch 89/100\n",
      "137/137 [==============================] - 0s 2ms/step - loss: 1.4428 - mape: 1.4428 - val_loss: 1.5735 - val_mape: 1.5735\n",
      "Epoch 90/100\n",
      "137/137 [==============================] - 0s 2ms/step - loss: 1.4438 - mape: 1.4438 - val_loss: 1.5711 - val_mape: 1.5711\n",
      "Epoch 91/100\n",
      "137/137 [==============================] - 0s 2ms/step - loss: 1.4445 - mape: 1.4445 - val_loss: 1.5649 - val_mape: 1.5649\n",
      "Epoch 92/100\n",
      "137/137 [==============================] - 0s 2ms/step - loss: 1.4381 - mape: 1.4381 - val_loss: 1.5617 - val_mape: 1.5617\n",
      "Epoch 93/100\n",
      "137/137 [==============================] - 0s 3ms/step - loss: 1.4381 - mape: 1.4381 - val_loss: 1.5566 - val_mape: 1.5566\n",
      "Epoch 94/100\n",
      "137/137 [==============================] - 0s 2ms/step - loss: 1.4336 - mape: 1.4336 - val_loss: 1.5703 - val_mape: 1.5703\n",
      "Epoch 95/100\n",
      "137/137 [==============================] - 0s 3ms/step - loss: 1.4380 - mape: 1.4380 - val_loss: 1.5520 - val_mape: 1.5520\n",
      "Epoch 96/100\n",
      "137/137 [==============================] - 0s 2ms/step - loss: 1.4312 - mape: 1.4312 - val_loss: 1.5526 - val_mape: 1.5526\n",
      "Epoch 97/100\n",
      "137/137 [==============================] - 0s 2ms/step - loss: 1.4304 - mape: 1.4304 - val_loss: 1.5487 - val_mape: 1.5487\n",
      "Epoch 98/100\n",
      "137/137 [==============================] - 0s 3ms/step - loss: 1.4280 - mape: 1.4280 - val_loss: 1.5467 - val_mape: 1.5467\n",
      "Epoch 99/100\n",
      "137/137 [==============================] - 0s 2ms/step - loss: 1.4272 - mape: 1.4272 - val_loss: 1.5455 - val_mape: 1.5455\n",
      "Epoch 100/100\n",
      "137/137 [==============================] - 0s 3ms/step - loss: 1.4252 - mape: 1.4252 - val_loss: 1.5447 - val_mape: 1.5447\n"
     ]
    }
   ],
   "source": [
    "model = Sequential()\n",
    "model.add(SimpleRNN(32,activation='relu',input_dim = 4))\n",
    "model.add(Dense(1,activation='linear'))\n",
    "ad=optimizers.Adam(learning_rate = 0.000019397829726650643)\n",
    "model.compile(optimizer = ad, loss = 'mape', metrics = ['mape'])\n",
    "model_history=model.fit(trainX, trainY,validation_data=(testX,testY), batch_size = 35, epochs = 100)"
   ]
  },
  {
   "cell_type": "code",
   "execution_count": 22,
   "id": "77c05906",
   "metadata": {
    "id": "77c05906"
   },
   "outputs": [],
   "source": [
    "def model_loss(history):\n",
    "    plt.figure(figsize=(8,4))\n",
    "    plt.plot(history.history['loss'], label='Train Loss')\n",
    "    plt.plot(history.history['val_loss'], label='Test Loss')\n",
    "    plt.title('model loss')\n",
    "    plt.ylabel('loss')\n",
    "    plt.xlabel('epochs')\n",
    "    plt.legend(loc='upper right')\n",
    "    plt.show();"
   ]
  },
  {
   "cell_type": "code",
   "execution_count": 23,
   "id": "6vZ-AXOUurmJ",
   "metadata": {
    "id": "6vZ-AXOUurmJ"
   },
   "outputs": [],
   "source": [
    "train_score = model.evaluate(trainX, trainY,verbose=0)\n",
    "test_score = model.evaluate(testX, testY,verbose=0)"
   ]
  },
  {
   "cell_type": "code",
   "execution_count": 24,
   "id": "45a22c27",
   "metadata": {
    "colab": {
     "base_uri": "https://localhost:8080/",
     "height": 329
    },
    "id": "45a22c27",
    "outputId": "d4b25497-e204-498f-dfd6-3870cbf6bb23"
   },
   "outputs": [
    {
     "name": "stdout",
     "output_type": "stream",
     "text": [
      "Train MAPE : 1.42 \n",
      "Test MAPE : 1.54 \n"
     ]
    },
    {
     "data": {
      "image/png": "[encoded data removed]",
      "text/plain": [
       "<Figure size 576x288 with 1 Axes>"
      ]
     },
     "metadata": {
      "needs_background": "light"
     },
     "output_type": "display_data"
    }
   ],
   "source": [
    "train_predict = model.predict(trainX)\n",
    "test_predict = model.predict(testX)\n",
    "\n",
    "# invert predictions\n",
    "train_predict = scaler.inverse_transform(train_predict)\n",
    "trainY = scaler.inverse_transform([trainY])\n",
    "test_predict = scaler.inverse_transform(test_predict)\n",
    "testY = scaler.inverse_transform([testY])\n",
    "print('Train MAPE : %.2f ' % (train_score[1]))\n",
    "print('Test MAPE : %.2f ' % (test_score[1]))\n",
    "model_loss(model_history)"
   ]
  },
  {
   "cell_type": "code",
   "execution_count": 26,
   "id": "dc942f74",
   "metadata": {
    "id": "dc942f74"
   },
   "outputs": [],
   "source": [
    "import seaborn as sns"
   ]
  },
  {
   "cell_type": "code",
   "execution_count": 25,
   "id": "dee9bab8",
   "metadata": {
    "id": "dee9bab8"
   },
   "outputs": [],
   "source": [
    "def prediction_plot(testY, test_predict,look_back):\n",
    "    len_prediction=[x for x in range(4771,5298)]\n",
    "    plt.plot(trainY.reshape(-1,))\n",
    "    plt.plot(len_prediction, testY.reshape(-1,), marker='.', label='actual')\n",
    "    plt.plot(len_prediction, test_predict, 'g', label=\"prediction\")\n",
    "    plt.tight_layout()\n",
    "    sns.despine(top=True)\n",
    "    plt.subplots_adjust(left=0.07)\n",
    "    plt.ylabel('Units', size=15)\n",
    "    plt.xlabel('Time step', size=15)\n",
    "    plt.legend(fontsize=15)\n",
    "    plt.show()"
   ]
  },
  {
   "cell_type": "code",
   "execution_count": 27,
   "id": "363040b5",
   "metadata": {
    "colab": {
     "base_uri": "https://localhost:8080/",
     "height": 604
    },
    "id": "363040b5",
    "outputId": "f7330e66-7f75-425f-dcd9-a09f9ead0539"
   },
   "outputs": [
    {
     "data": {
      "image/png": "[encoded data removed]",
      "text/plain": [
       "<Figure size 1080x576 with 1 Axes>"
      ]
     },
     "metadata": {
      "needs_background": "light"
     },
     "output_type": "display_data"
    }
   ],
   "source": [
    "test_predict = model.predict(testX)\n",
    "test_predict = scaler.inverse_transform(test_predict)\n",
    "prediction_plot(testY, test_predict,look_back)"
   ]
  }
 ],
 "metadata": {
  "colab": {
   "collapsed_sections": [],
   "name": "Reliance_HPT_RNN_base_model.ipynb",
   "provenance": []
  },
  "kernelspec": {
   "display_name": "Python 3",
   "language": "python",
   "name": "python3"
  },
  "language_info": {
   "codemirror_mode": {
    "name": "ipython",
    "version": 3
   },
   "file_extension": ".py",
   "mimetype": "text/x-python",
   "name": "python",
   "nbconvert_exporter": "python",
   "pygments_lexer": "ipython3",
   "version": "3.8.8"
  }
 },
 "nbformat": 4,
 "nbformat_minor": 5
}
